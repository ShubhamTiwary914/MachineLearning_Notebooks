{
  "nbformat": 4,
  "nbformat_minor": 0,
  "metadata": {
    "colab": {
      "provenance": [],
      "gpuType": "T4",
      "authorship_tag": "ABX9TyPVUv6WxYmDOpB6rh/ACUcr",
      "include_colab_link": true
    },
    "kernelspec": {
      "name": "python3",
      "display_name": "Python 3"
    },
    "language_info": {
      "name": "python"
    },
    "accelerator": "GPU"
  },
  "cells": [
    {
      "cell_type": "markdown",
      "metadata": {
        "id": "view-in-github",
        "colab_type": "text"
      },
      "source": [
        "<a href=\"https://colab.research.google.com/github/ShubhamTiwary914/MachineLearning_Notebooks/blob/main/3_DataAugmented.ipynb\" target=\"_parent\"><img src=\"https://colab.research.google.com/assets/colab-badge.svg\" alt=\"Open In Colab\"/></a>"
      ]
    },
    {
      "cell_type": "markdown",
      "source": [
        "https://www.youtube.com/watch?v=mTVf7BN7S8w&list=PLeo1K3hjS3uu7CxAacxVndI4bE_o3BDtO&index=27"
      ],
      "metadata": {
        "id": "i4oL6NDwUOhR"
      }
    },
    {
      "cell_type": "code",
      "execution_count": null,
      "metadata": {
        "id": "gpRW1KrMOwXl"
      },
      "outputs": [],
      "source": [
        "import matplotlib.pyplot as plt\n",
        "import tensorflow as tf\n",
        "from tensorflow import keras\n",
        "import PIL\n",
        "import os\n",
        "import cv2\n",
        "import numpy as np"
      ]
    },
    {
      "cell_type": "code",
      "source": [
        "from tensorflow.python.client import device_lib\n",
        "\n",
        "def get_hardware_info():\n",
        "    devices = device_lib.list_local_devices()\n",
        "    for device in devices:\n",
        "        print(f\"Device name: {device.name}\")\n",
        "        print(f\"Device type: {device.device_type}\")\n",
        "        print(f\"Memory limit: {device.memory_limit}\")\n",
        "        print('')\n",
        "\n",
        "get_hardware_info()"
      ],
      "metadata": {
        "id": "LNwSLGbNPDSM",
        "colab": {
          "base_uri": "https://localhost:8080/"
        },
        "outputId": "1439d26c-e075-4ed5-bde1-d40d4a3a5900"
      },
      "execution_count": null,
      "outputs": [
        {
          "output_type": "stream",
          "name": "stdout",
          "text": [
            "Device name: /device:CPU:0\n",
            "Device type: CPU\n",
            "Memory limit: 268435456\n",
            "\n",
            "Device name: /device:GPU:0\n",
            "Device type: GPU\n",
            "Memory limit: 14626652160\n",
            "\n"
          ]
        }
      ]
    },
    {
      "cell_type": "markdown",
      "source": [
        "## Import Dataset"
      ],
      "metadata": {
        "id": "qqhmGBXRWyAc"
      }
    },
    {
      "cell_type": "code",
      "source": [
        "dataset_url = \"https://storage.googleapis.com/download.tensorflow.org/example_images/flower_photos.tgz\"\n",
        "data_dir = tf.keras.utils.get_file('flower_photos', origin=dataset_url,  cache_dir='.', untar=True)"
      ],
      "metadata": {
        "id": "akc8cKIDT5IU"
      },
      "execution_count": null,
      "outputs": []
    },
    {
      "cell_type": "code",
      "source": [
        "#Set Path\n",
        "import pathlib\n",
        "data_dir = pathlib.Path(data_dir)\n",
        "data_dir"
      ],
      "metadata": {
        "colab": {
          "base_uri": "https://localhost:8080/"
        },
        "id": "pwNUmj27T_nq",
        "outputId": "6e340298-b9a7-43c9-c312-178793088907"
      },
      "execution_count": null,
      "outputs": [
        {
          "output_type": "execute_result",
          "data": {
            "text/plain": [
              "PosixPath('datasets/flower_photos')"
            ]
          },
          "metadata": {},
          "execution_count": 5
        }
      ]
    },
    {
      "cell_type": "markdown",
      "source": [
        "### Set dataset and labels to dictionaries"
      ],
      "metadata": {
        "id": "XuFHjZJeWvOy"
      }
    },
    {
      "cell_type": "code",
      "source": [
        "flowers = {\n",
        "    \"daisy\": list(data_dir.glob('daisy/*')),\n",
        "    \"dandelion\": list(data_dir.glob('dandelion/*')),\n",
        "    \"roses\": list(data_dir.glob('roses/*')),\n",
        "    \"sunflowers\": list(data_dir.glob('sunflowers/*')),\n",
        "    \"tulips\": list(data_dir.glob('tulips/*')),\n",
        "}\n",
        "\n",
        "labels = {\n",
        "    'roses': 0,\n",
        "    'daisy': 1,\n",
        "    'dandelion': 2,\n",
        "    'sunflowers': 3,\n",
        "    'tulips': 4,\n",
        "}"
      ],
      "metadata": {
        "id": "yHqW8m7HURq3"
      },
      "execution_count": null,
      "outputs": []
    },
    {
      "cell_type": "code",
      "source": [
        "X, y = [], []\n",
        "for flower_name, flowers_list in flowers.items():\n",
        "  for flowerImg in flowers_list:\n",
        "    #Fit image\n",
        "    img = cv2.imread(str(flowerImg))\n",
        "    imgResized = cv2.resize(img,(180,180))\n",
        "    #Push X->Image and y->label\n",
        "    X.append(imgResized)\n",
        "    y.append(labels[flower_name])\n",
        "\n",
        "X = np.array(X)\n",
        "y = np.array(y)"
      ],
      "metadata": {
        "id": "oqkNbmruUz9G"
      },
      "execution_count": null,
      "outputs": []
    },
    {
      "cell_type": "markdown",
      "source": [
        "### Split into Train-Test sets"
      ],
      "metadata": {
        "id": "rrD06ya5WHTM"
      }
    },
    {
      "cell_type": "code",
      "source": [
        "from sklearn.model_selection import train_test_split\n",
        "X_train, X_test, y_train, y_test = train_test_split(X, y, random_state=0)"
      ],
      "metadata": {
        "id": "02KxN3VPVjo1"
      },
      "execution_count": null,
      "outputs": []
    },
    {
      "cell_type": "markdown",
      "source": [
        "### Scale neuron from 0-255(int) to 0-1(float)"
      ],
      "metadata": {
        "id": "leQ9Q5DqXME2"
      }
    },
    {
      "cell_type": "code",
      "source": [
        "X_train_scaled= X_train/255\n",
        "X_test_scaled = X_test/255"
      ],
      "metadata": {
        "id": "bpC46mrsXLS7"
      },
      "execution_count": null,
      "outputs": []
    },
    {
      "cell_type": "code",
      "source": [
        "print(X_train.shape)\n",
        "print(y_train.shape)"
      ],
      "metadata": {
        "colab": {
          "base_uri": "https://localhost:8080/"
        },
        "id": "BP3t1hXrXy_q",
        "outputId": "bb642077-16fd-43d8-e4a3-6f2cbe7a1ec6"
      },
      "execution_count": null,
      "outputs": [
        {
          "output_type": "stream",
          "name": "stdout",
          "text": [
            "(2752, 180, 180, 3)\n",
            "(2752,)\n"
          ]
        }
      ]
    },
    {
      "cell_type": "markdown",
      "source": [
        "### Set Data Augmentation Preprocessing"
      ],
      "metadata": {
        "id": "Eq6yliJUXhQD"
      }
    },
    {
      "cell_type": "code",
      "source": [
        "dataAugment_preprocessor = keras.Sequential(\n",
        "  [\n",
        "    keras.layers.experimental.preprocessing.RandomFlip(\"horizontal\", input_shape=(180, 180,3)),\n",
        "    keras.layers.experimental.preprocessing.RandomRotation(0.1),\n",
        "    keras.layers.experimental.preprocessing.RandomZoom(0.1),\n",
        "  ]\n",
        ")"
      ],
      "metadata": {
        "id": "uMhKcXXbXVkf"
      },
      "execution_count": null,
      "outputs": []
    },
    {
      "cell_type": "markdown",
      "source": [
        "### Build CNN Model and train it"
      ],
      "metadata": {
        "id": "zReFbZO-X7XF"
      }
    },
    {
      "cell_type": "code",
      "source": [
        "classSize = len(labels)\n",
        "model = keras.Sequential([\n",
        "    #Preprocessor\n",
        "    dataAugment_preprocessor,\n",
        "    #Hidden CNN Layer-1\n",
        "    keras.layers.Conv2D(filters=10, kernel_size=3, padding='same', activation='relu'),\n",
        "    keras.layers.MaxPooling2D(),\n",
        "    #Hidden CNN Layer-2\n",
        "    keras.layers.Conv2D(filters=25, kernel_size=3, padding='same', activation='relu'),\n",
        "    keras.layers.MaxPooling2D(),\n",
        "    #Hidden CNN Layer-3\n",
        "    keras.layers.Conv2D(filters=50, kernel_size=3, padding='same', activation='relu'),\n",
        "    keras.layers.MaxPooling2D(),\n",
        "    #Dense Layer\n",
        "    keras.layers.Flatten(),\n",
        "    keras.layers.Dense(140, activation='relu'),\n",
        "    keras.layers.Dense(classSize)\n",
        "])\n",
        "\n",
        "model.compile(optimizer='adam',\n",
        "              loss=tf.keras.losses.SparseCategoricalCrossentropy(from_logits=True),\n",
        "              metrics=['accuracy'])\n",
        "\n",
        "\n",
        "model.fit(X_train, y_train, epochs=30)"
      ],
      "metadata": {
        "colab": {
          "base_uri": "https://localhost:8080/"
        },
        "id": "soMbXOFrX7ID",
        "outputId": "b923d4b2-469b-4a5d-8928-30ad26c80be7"
      },
      "execution_count": null,
      "outputs": [
        {
          "output_type": "stream",
          "name": "stdout",
          "text": [
            "Epoch 1/30\n",
            "86/86 [==============================] - 4s 17ms/step - loss: 10.4890 - accuracy: 0.3735\n",
            "Epoch 2/30\n",
            "86/86 [==============================] - 2s 21ms/step - loss: 1.1719 - accuracy: 0.5363\n",
            "Epoch 3/30\n",
            "86/86 [==============================] - 1s 14ms/step - loss: 1.0348 - accuracy: 0.5934\n",
            "Epoch 4/30\n",
            "86/86 [==============================] - 1s 15ms/step - loss: 0.9450 - accuracy: 0.6374\n",
            "Epoch 5/30\n",
            "86/86 [==============================] - 1s 15ms/step - loss: 0.8988 - accuracy: 0.6602\n",
            "Epoch 6/30\n",
            "86/86 [==============================] - 1s 14ms/step - loss: 0.8402 - accuracy: 0.6719\n",
            "Epoch 7/30\n",
            "86/86 [==============================] - 1s 14ms/step - loss: 0.7935 - accuracy: 0.6940\n",
            "Epoch 8/30\n",
            "86/86 [==============================] - 1s 15ms/step - loss: 0.7651 - accuracy: 0.7100\n",
            "Epoch 9/30\n",
            "86/86 [==============================] - 1s 15ms/step - loss: 0.7650 - accuracy: 0.7169\n",
            "Epoch 10/30\n",
            "86/86 [==============================] - 1s 15ms/step - loss: 0.6791 - accuracy: 0.7471\n",
            "Epoch 11/30\n",
            "86/86 [==============================] - 1s 16ms/step - loss: 0.6645 - accuracy: 0.7493\n",
            "Epoch 12/30\n",
            "86/86 [==============================] - 1s 15ms/step - loss: 0.6603 - accuracy: 0.7489\n",
            "Epoch 13/30\n",
            "86/86 [==============================] - 1s 15ms/step - loss: 0.6454 - accuracy: 0.7594\n",
            "Epoch 14/30\n",
            "86/86 [==============================] - 1s 15ms/step - loss: 0.5981 - accuracy: 0.7780\n",
            "Epoch 15/30\n",
            "86/86 [==============================] - 1s 15ms/step - loss: 0.6064 - accuracy: 0.7667\n",
            "Epoch 16/30\n",
            "86/86 [==============================] - 1s 15ms/step - loss: 0.5771 - accuracy: 0.7838\n",
            "Epoch 17/30\n",
            "86/86 [==============================] - 1s 15ms/step - loss: 0.5549 - accuracy: 0.7972\n",
            "Epoch 18/30\n",
            "86/86 [==============================] - 1s 15ms/step - loss: 0.5379 - accuracy: 0.8041\n",
            "Epoch 19/30\n",
            "86/86 [==============================] - 1s 15ms/step - loss: 0.5107 - accuracy: 0.8110\n",
            "Epoch 20/30\n",
            "86/86 [==============================] - 1s 16ms/step - loss: 0.5100 - accuracy: 0.8089\n",
            "Epoch 21/30\n",
            "86/86 [==============================] - 1s 16ms/step - loss: 0.5168 - accuracy: 0.8089\n",
            "Epoch 22/30\n",
            "86/86 [==============================] - 1s 15ms/step - loss: 0.4692 - accuracy: 0.8270\n",
            "Epoch 23/30\n",
            "86/86 [==============================] - 1s 15ms/step - loss: 0.4315 - accuracy: 0.8387\n",
            "Epoch 24/30\n",
            "86/86 [==============================] - 1s 15ms/step - loss: 0.4694 - accuracy: 0.8285\n",
            "Epoch 25/30\n",
            "86/86 [==============================] - 1s 15ms/step - loss: 0.4540 - accuracy: 0.8321\n",
            "Epoch 26/30\n",
            "86/86 [==============================] - 1s 15ms/step - loss: 0.4266 - accuracy: 0.8401\n",
            "Epoch 27/30\n",
            "86/86 [==============================] - 1s 15ms/step - loss: 0.4129 - accuracy: 0.8481\n",
            "Epoch 28/30\n",
            "86/86 [==============================] - 1s 15ms/step - loss: 0.4335 - accuracy: 0.8394\n",
            "Epoch 29/30\n",
            "86/86 [==============================] - 1s 15ms/step - loss: 0.4074 - accuracy: 0.8568\n",
            "Epoch 30/30\n",
            "86/86 [==============================] - 1s 16ms/step - loss: 0.3580 - accuracy: 0.8699\n"
          ]
        },
        {
          "output_type": "execute_result",
          "data": {
            "text/plain": [
              "<keras.src.callbacks.History at 0x7c7b9fe4f3d0>"
            ]
          },
          "metadata": {},
          "execution_count": 15
        }
      ]
    },
    {
      "cell_type": "code",
      "source": [
        "model.evaluate(X_test, y_test)"
      ],
      "metadata": {
        "colab": {
          "base_uri": "https://localhost:8080/"
        },
        "id": "hMXT_4JrZENo",
        "outputId": "705d5937-3582-41c0-a620-b90092671320"
      },
      "execution_count": null,
      "outputs": [
        {
          "output_type": "stream",
          "name": "stdout",
          "text": [
            "29/29 [==============================] - 1s 15ms/step - loss: 1.2197 - accuracy: 0.6808\n"
          ]
        },
        {
          "output_type": "execute_result",
          "data": {
            "text/plain": [
              "[1.2196540832519531, 0.6808279156684875]"
            ]
          },
          "metadata": {},
          "execution_count": 16
        }
      ]
    }
  ]
}