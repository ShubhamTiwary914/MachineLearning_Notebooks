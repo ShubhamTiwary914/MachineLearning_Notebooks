{
  "cells": [
    {
      "cell_type": "markdown",
      "metadata": {
        "id": "view-in-github",
        "colab_type": "text"
      },
      "source": [
        "<a href=\"https://colab.research.google.com/github/ShubhamTiwary914/MachineLearning_Notebooks/blob/main/4_WordSentiment.ipynb\" target=\"_parent\"><img src=\"https://colab.research.google.com/assets/colab-badge.svg\" alt=\"Open In Colab\"/></a>"
      ]
    },
    {
      "cell_type": "code",
      "execution_count": null,
      "metadata": {
        "id": "NIQS16bhLPz3"
      },
      "outputs": [],
      "source": [
        "import numpy as np\n",
        "from tensorflow.keras.preprocessing.text import one_hot\n",
        "from tensorflow.keras.preprocessing.sequence import pad_sequences\n",
        "from tensorflow import keras"
      ]
    },
    {
      "cell_type": "markdown",
      "metadata": {
        "id": "1fPDq8syLmez"
      },
      "source": [
        "### Dummy Datasets"
      ]
    },
    {
      "cell_type": "code",
      "execution_count": null,
      "metadata": {
        "id": "qANJaqUlLhzH"
      },
      "outputs": [],
      "source": [
        "reviews = ['nice food',\n",
        "        'amazing restaurant',\n",
        "        'too good',\n",
        "        'just loved it!',\n",
        "        'will go again',\n",
        "        'horrible food',\n",
        "        'never go there',\n",
        "        'poor service',\n",
        "        'poor quality',\n",
        "        'needs improvement']\n",
        "\n",
        "sentiments = np.array([1,1,1,1,1,0,0,0,0,0])"
      ]
    },
    {
      "cell_type": "markdown",
      "metadata": {
        "id": "O16wlmfWMkL0"
      },
      "source": [
        "### Encoding + Padding the Words"
      ]
    },
    {
      "cell_type": "code",
      "execution_count": null,
      "metadata": {
        "colab": {
          "base_uri": "https://localhost:8080/"
        },
        "id": "IZo8ogsALrIh",
        "outputId": "ad635974-3871-49a9-a4d7-2d3fc099c99e"
      },
      "outputs": [
        {
          "output_type": "stream",
          "name": "stdout",
          "text": [
            "[[10 10  0  0]\n",
            " [10 30  0  0]\n",
            " [28 26  0  0]\n",
            " [ 9 28  9  0]\n",
            " [15  4 28  0]\n",
            " [18 10  0  0]\n",
            " [15  4 16  0]\n",
            " [27 23  0  0]\n",
            " [27 19  0  0]\n",
            " [21 35  0  0]]\n"
          ]
        }
      ],
      "source": [
        "def analyseSentences():\n",
        "  res = [0, 0]\n",
        "  for review in reviews:\n",
        "    words = review.split(' ')\n",
        "    res[0] = max(res[0], len(review))\n",
        "    res[1] = max(res[1], len(words))\n",
        "  return res\n",
        "res = analyseSentences()\n",
        "charsMax = res[0]*2\n",
        "wordsMax = res[1]+1\n",
        "\n",
        "#One Hot Encoding\n",
        "reviewsEncoded = [one_hot(review, charsMax) for review in reviews]\n",
        "#Padding\n",
        "reviewsPadded = pad_sequences(reviewsEncoded, maxlen=wordsMax, padding='post')\n",
        "\n",
        "print(reviewsPadded)"
      ]
    },
    {
      "cell_type": "markdown",
      "metadata": {
        "id": "gYc3sZErN6ZH"
      },
      "source": [
        "### DL Model Generates Word Embedding"
      ]
    },
    {
      "cell_type": "code",
      "execution_count": null,
      "metadata": {
        "colab": {
          "base_uri": "https://localhost:8080/"
        },
        "id": "X9HFMktnODJC",
        "outputId": "c7587d0b-e3c7-47e3-8828-73294b157aee"
      },
      "outputs": [
        {
          "output_type": "execute_result",
          "data": {
            "text/plain": [
              "<keras.src.callbacks.History at 0x798aa92a3400>"
            ]
          },
          "metadata": {},
          "execution_count": 4
        }
      ],
      "source": [
        "model = keras.Sequential([\n",
        "    keras.layers.Embedding(charsMax, 5, input_length=wordsMax, name=\"words-embedding\"),\n",
        "    keras.layers.Flatten(),\n",
        "    keras.layers.Dense(1, activation='sigmoid')\n",
        "])\n",
        "\n",
        "\n",
        "model.compile(optimizer='adam', loss='binary_crossentropy', metrics=['accuracy'])\n",
        "model.fit(reviewsPadded, sentiments, epochs=50, verbose=0)"
      ]
    },
    {
      "cell_type": "markdown",
      "metadata": {
        "id": "U_w3LKvkROSB"
      },
      "source": [
        "### Model Summary & Evaluation"
      ]
    },
    {
      "cell_type": "code",
      "execution_count": null,
      "metadata": {
        "colab": {
          "base_uri": "https://localhost:8080/"
        },
        "id": "fPGdY-cROoXt",
        "outputId": "4e78823c-362c-40c6-adf2-74a2ec1aa739"
      },
      "outputs": [
        {
          "output_type": "stream",
          "name": "stdout",
          "text": [
            "Model: \"sequential\"\n",
            "_________________________________________________________________\n",
            " Layer (type)                Output Shape              Param #   \n",
            "=================================================================\n",
            " words-embedding (Embedding  (None, 4, 5)              180       \n",
            " )                                                               \n",
            "                                                                 \n",
            " flatten (Flatten)           (None, 20)                0         \n",
            "                                                                 \n",
            " dense (Dense)               (None, 1)                 21        \n",
            "                                                                 \n",
            "=================================================================\n",
            "Total params: 201 (804.00 Byte)\n",
            "Trainable params: 201 (804.00 Byte)\n",
            "Non-trainable params: 0 (0.00 Byte)\n",
            "_________________________________________________________________\n",
            "None\n",
            "1/1 [==============================] - 0s 130ms/step - loss: 0.6229 - accuracy: 1.0000\n"
          ]
        },
        {
          "output_type": "execute_result",
          "data": {
            "text/plain": [
              "1.0"
            ]
          },
          "metadata": {},
          "execution_count": 5
        }
      ],
      "source": [
        "print(model.summary())\n",
        "\n",
        "# evaluate the model\n",
        "loss, accuracy = model.evaluate(reviewsPadded, sentiments)\n",
        "accuracy"
      ]
    }
  ],
  "metadata": {
    "accelerator": "GPU",
    "colab": {
      "gpuType": "T4",
      "provenance": [],
      "authorship_tag": "ABX9TyMduXDcNwzWgFfoG5HAZPar",
      "include_colab_link": true
    },
    "kernelspec": {
      "display_name": "Python 3",
      "name": "python3"
    },
    "language_info": {
      "name": "python"
    }
  },
  "nbformat": 4,
  "nbformat_minor": 0
}